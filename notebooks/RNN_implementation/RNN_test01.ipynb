{
 "cells": [
  {
   "cell_type": "markdown",
   "metadata": {},
   "source": [
    "# One-neuron recurrent network\n",
    "\n",
    "## Some info on simple models:\n",
    "* http://gradworks.umi.com/36/41/3641415.html\n",
    "* http://ieeexplore.ieee.org/stamp/stamp.jsp?tp=&arnumber=6547230\n",
    "\n",
    "\n",
    "\n",
    "\n",
    "Formula:\n",
    "$$y(k+1) = \\sigma(w*y(k) + x)$$\n",
    "\n",
    "With $y(k)$ the output at time $k$, $w$ the feedback weight, $x$ the input signal, $sigma$ the non-linear transfer function.\n",
    "\n",
    "## Systeemtheorie:\n",
    "\n",
    "* http://en.wikipedia.org/wiki/LTI_system_theory\n",
    "\n",
    "vanuit de cursus:\n",
    "\n",
    "$$x[k+1] = A x[k] + B u[k]$$\n",
    "$$y[k] = C x[k] + D u[k]$$\n",
    "\n",
    "Met $x[k]$ de toestand op moment $k$, $u[k]$ de input op moment $k$, en $y[k]$ de output op moment $k$.\n",
    "\n",
    "## Kalman filters:\n",
    "\n",
    "* http://greg.czerniak.info/guides/kalman1/\n",
    "* http://prism2.mem.drexel.edu/~billgreen/slam/papers/kalmanIntro.pdf\n",
    "* http://www.cl.cam.ac.uk/~rmf25/papers/Understanding%20the%20Basis%20of%20the%20Kalman%20Filter.pdf\n",
    "* http://bilgin.esme.org/BitsBytes/KalmanFilterforDummies.aspx\n",
    "* http://en.wikipedia.org/wiki/Kalman_filter\n",
    "\n",
    "\n",
    "\n",
    "$$ x(k) = A x(k-1) + B u(k) $$\n",
    "\n",
    "With $x(k)$ the state at time $k$, $u(k)$ the input (control vector) at time $k$, $A$ the state transition matrix, $B$ the control matrix.\n",
    "\n",
    "\n",
    "## More external info:\n",
    "* http://crl.ucsd.edu/~elman/Bulgaria/cs-counter.pdf\n",
    "* http://www.willamette.edu/~gorr/classes/cs449/rnn1.html\n",
    "* https://web.stanford.edu/group/pdplab/pdphandbook/handbookch8.html"
   ]
  }
 ],
 "metadata": {
  "kernelspec": {
   "display_name": "Python 2",
   "language": "python",
   "name": "python2"
  },
  "language_info": {
   "codemirror_mode": {
    "name": "ipython",
    "version": 2
   },
   "file_extension": ".py",
   "mimetype": "text/x-python",
   "name": "python",
   "nbconvert_exporter": "python",
   "pygments_lexer": "ipython2",
   "version": "2.7.9"
  }
 },
 "nbformat": 4,
 "nbformat_minor": 0
}
